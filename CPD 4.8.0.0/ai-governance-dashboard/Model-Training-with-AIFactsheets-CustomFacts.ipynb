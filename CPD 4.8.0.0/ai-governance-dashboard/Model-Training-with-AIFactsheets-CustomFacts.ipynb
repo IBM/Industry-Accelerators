{
 "cells": [
  {
   "cell_type": "markdown",
   "metadata": {
    "id": "d031254092654cf8aca02ab627bee766"
   },
   "source": [
    "# Mortgage Approval Prediction\n",
    "\n",
    "### Contents\n",
    "- [Authentication](#tokens)\n",
    "- [Import Libraries](#libraries)\n",
    "- [Setup AI Factsheets](#factsheet)\n",
    "- [Load training data](#data)\n",
    "- [Specify User Inputs](#userinputs)\n",
    "- [Build Data Pipelines](#transformers)\n",
    "- [Build Machine Learning Models](#ml)\n",
    "- [View Model Results](#results)\n",
    "- [Save the model](#save)"
   ]
  },
  {
   "cell_type": "markdown",
   "metadata": {
    "id": "abf4ce8d-857a-43fa-8363-f5f06e68a292"
   },
   "source": [
    "### Authentication  <a name=\"tokens\"></a>\n",
    "Enter hostname, username and password."
   ]
  },
  {
   "cell_type": "code",
   "execution_count": 3,
   "metadata": {
    "id": "e0cb3a68-757b-48ba-a1c0-a23dc259c0b8"
   },
   "outputs": [],
   "source": [
    "import getpass\n",
    "\n",
    "hostname=input(\"Enter host name: \")\n",
    "\n",
    "\n",
    "username = input(\"Username: \")\n",
    "pwd = getpass.getpass(\"Password for \" + username + \":\")\n",
    "\n",
    "catalog_name = input(\"Enter catalog name\")"
   ]
  },
  {
   "cell_type": "markdown",
   "metadata": {
    "id": "39bb11b4-3aa8-4b7f-b5d8-fea6dd645bd2"
   },
   "source": [
    "You can then step through the notebook execution cell by cell, by selecting Shift-Enter. Or you can execute the entire notebook by selecting **Cell > Run All** from the menu.<br>"
   ]
  },
  {
   "cell_type": "markdown",
   "metadata": {
    "id": "491c2fe7-50da-46dd-80e0-04543e71ece8"
   },
   "source": [
    "### Import Libraries  <a name=\"libraries\"></a>"
   ]
  },
  {
   "cell_type": "markdown",
   "metadata": {
    "id": "f65453b8-c04f-42a7-b424-0450c426f72f"
   },
   "source": [
    "This cell imports the python libraries that you will use throughout the notebook. \n",
    "`matplotlib` and `seaborn` libraries are used to visualize the data. The code uses the `sklearn` library to build transformers and machine learning models. "
   ]
  },
  {
   "cell_type": "code",
   "execution_count": 2,
   "metadata": {
    "id": "e3ad0c1cdeef455bbe0da13ca643af60"
   },
   "outputs": [
    {
     "name": "stdout",
     "output_type": "stream",
     "text": [
      "Requirement already satisfied: ibm-cloud-sdk-core in /opt/conda/envs/Python-RT23.1-Premium/lib/python3.10/site-packages (3.16.5)\n",
      "Requirement already satisfied: urllib3<2.0.0,>=1.26.0 in /opt/conda/envs/Python-RT23.1-Premium/lib/python3.10/site-packages (from ibm-cloud-sdk-core) (1.26.15)\n",
      "Requirement already satisfied: python-dateutil<3.0.0,>=2.5.3 in /opt/conda/envs/Python-RT23.1-Premium/lib/python3.10/site-packages (from ibm-cloud-sdk-core) (2.8.2)\n",
      "Requirement already satisfied: requests<3.0.0,>=2.28.2 in /opt/conda/envs/Python-RT23.1-Premium/lib/python3.10/site-packages (from ibm-cloud-sdk-core) (2.29.0)\n",
      "Requirement already satisfied: PyJWT<3.0.0,>=2.4.0 in /opt/conda/envs/Python-RT23.1-Premium/lib/python3.10/site-packages (from ibm-cloud-sdk-core) (2.4.0)\n",
      "Requirement already satisfied: six>=1.5 in /opt/conda/envs/Python-RT23.1-Premium/lib/python3.10/site-packages (from python-dateutil<3.0.0,>=2.5.3->ibm-cloud-sdk-core) (1.16.0)\n",
      "Requirement already satisfied: charset-normalizer<4,>=2 in /opt/conda/envs/Python-RT23.1-Premium/lib/python3.10/site-packages (from requests<3.0.0,>=2.28.2->ibm-cloud-sdk-core) (2.0.4)\n",
      "Requirement already satisfied: idna<4,>=2.5 in /opt/conda/envs/Python-RT23.1-Premium/lib/python3.10/site-packages (from requests<3.0.0,>=2.28.2->ibm-cloud-sdk-core) (3.4)\n",
      "Requirement already satisfied: certifi>=2017.4.17 in /opt/conda/envs/Python-RT23.1-Premium/lib/python3.10/site-packages (from requests<3.0.0,>=2.28.2->ibm-cloud-sdk-core) (2023.5.7)\n"
     ]
    }
   ],
   "source": [
    "\n",
    "\n",
    "try:\n",
    "    from ibm_aigov_facts_client import AIGovFactsClient,CloudPakforDataConfig\n",
    "except:\n",
    "    !pip install -U ibm-aigov-facts-client\n",
    "    from ibm_aigov_facts_client import AIGovFactsClient\n",
    "        \n",
    "from ibm_aigov_facts_client import AIGovFactsClient,CloudPakforDataConfig\n",
    "\n",
    "from ibm_aigov_facts_client.supporting_classes.factsheet_utils import DeploymentDetails,TrainingDataReference,ExternalModelSchemas\n",
    "\n",
    "import pandas as pd\n",
    "pd.set_option('display.max_columns', None)\n",
    "\n",
    "import matplotlib.pyplot as plt\n",
    "import matplotlib.patches as mpatches\n",
    "import numpy as np\n",
    "import os\n",
    "import requests\n",
    "s=requests.session()\n",
    "import json\n",
    "\n",
    "import random\n",
    "import seaborn as sns\n",
    "sns.set(style='darkgrid',palette=\"deep\")\n",
    "\n",
    "import ibm_db, ibm_db_dbi as dbi\n",
    "\n",
    "\n",
    "from sklearn.model_selection import train_test_split\n",
    "\n",
    "from sklearn.compose import ColumnTransformer\n",
    "from sklearn.pipeline import Pipeline\n",
    "from sklearn.impute import SimpleImputer\n",
    "from sklearn.preprocessing import StandardScaler, OneHotEncoder\n",
    "\n",
    "from sklearn.ensemble import RandomForestClassifier, GradientBoostingClassifier\n",
    "import string\n",
    "from sklearn import metrics\n",
    "import project_lib\n",
    "project = project_lib.Project() \n",
    "from ibm_watson_studio_lib import access_project_or_space\n",
    "wslib = access_project_or_space()\n",
    "!pip install ibm-cloud-sdk-core"
   ]
  },
  {
   "cell_type": "markdown",
   "metadata": {
    "id": "f8a7f2b3-b071-4341-907a-f0a3f75340a7"
   },
   "source": [
    "### Set up AI Factsheets  <a name=\"factsheet\"></a>"
   ]
  },
  {
   "cell_type": "markdown",
   "metadata": {
    "id": "aac0f9b3-e131-453c-836f-1178dad16392"
   },
   "source": [
    "[AI Factsheets](https://aifs360.res.ibm.com/) will be used to track the lifecycle of the model built using sci-kit library. This cell imports the AI Factsheets client and creates an experiment to log the results to AI Factsheets. Restart the kernal after installing the below libraries."
   ]
  },
  {
   "cell_type": "code",
   "execution_count": 4,
   "metadata": {
    "id": "3ca8618549c4490c9456e9c8b42dc7a4"
   },
   "outputs": [],
   "source": [
    "cpd_creds=CloudPakforDataConfig(service_url=hostname,username=username,password=pwd)\n",
    "\n",
    "PROJECT_UID= os.environ['PROJECT_ID'] #this assumes you are running in Studio. When running externally please add the project id here.\n",
    "CPD_URL=os.environ['RUNTIME_ENV_APSX_URL']\n",
    "CONTAINER_ID=PROJECT_UID\n",
    "CONTAINER_TYPE='project'\n",
    "EXPERIMENT_NAME='mortgage_approval_prediction'\n"
   ]
  },
  {
   "cell_type": "code",
   "execution_count": 5,
   "metadata": {
    "id": "2d61d134cb30480785eda17a281112b2"
   },
   "outputs": [
    {
     "name": "stdout",
     "output_type": "stream",
     "text": [
      "2023/10/16 11:58:20 INFO : Experiment successfully created with ID 1 and name mortgage_approval_prediction\n",
      "2023/10/16 11:58:20 INFO : Autolog enabled Successfully\n"
     ]
    }
   ],
   "source": [
    "try:\n",
    "    facts_client = AIGovFactsClient(experiment_name=EXPERIMENT_NAME,container_type=CONTAINER_TYPE,container_id=CONTAINER_ID,cloud_pak_for_data_configs=cpd_creds)\n",
    "except:\n",
    "    print(\"Experiment Name\",EXPERIMENT_NAME+\"100\",\"already exists.\")\n",
    "    \n",
    "    EXPERIMENT_NAME = EXPERIMENT_NAME + '_'+''.join(random.choice(string.ascii_lowercase + string.digits) for _ in range(3))\n",
    "    print(\"Creating a new experiment with name -\",EXPERIMENT_NAME)\n",
    "    facts_client = AIGovFactsClient(experiment_name=EXPERIMENT_NAME,container_type=CONTAINER_TYPE,container_id=CONTAINER_ID,cloud_pak_for_data_configs=cpd_creds)\n",
    "    \n",
    "    \n",
    "    \n",
    "    \n",
    "\n",
    "    "
   ]
  },
  {
   "cell_type": "markdown",
   "metadata": {
    "id": "6c9c4800-bcc7-4912-8cc4-df253a16b286"
   },
   "source": [
    "### Connect to a Database "
   ]
  },
  {
   "cell_type": "code",
   "execution_count": 6,
   "metadata": {
    "id": "40a03e3a-bdd7-41d5-8451-13ebaf3325e7"
   },
   "outputs": [],
   "source": [
    "DATABASE_CREDENTIALS=project.get_connection(name=\"Data Fabric Trial - Db2 Warehouse\")"
   ]
  },
  {
   "cell_type": "code",
   "execution_count": 7,
   "metadata": {
    "id": "2dfb63e2-61aa-4a99-b053-e0650d7c0949"
   },
   "outputs": [],
   "source": [
    "db2_warehouse_datafabric_trial_dsn = 'DATABASE={};HOSTNAME={};PORT={};PROTOCOL=TCPIP;UID={uid};PWD={pwd};SECURITY=SSL'.format(DATABASE_CREDENTIALS['database'],DATABASE_CREDENTIALS['host'],DATABASE_CREDENTIALS['port'],uid=DATABASE_CREDENTIALS['username'],pwd=DATABASE_CREDENTIALS['password'])\n",
    "\n",
    "db2_warehouse_datafabric_trial_connection = dbi.connect(db2_warehouse_datafabric_trial_dsn)\n",
    "   "
   ]
  },
  {
   "cell_type": "markdown",
   "metadata": {
    "id": "e6d92367-d079-4a52-a18b-65d0f62fdb24"
   },
   "source": [
    "#### SQL Query to read the tables\n",
    "The SQL Query below returns the raw data required to train the model."
   ]
  },
  {
   "cell_type": "code",
   "execution_count": 9,
   "metadata": {
    "id": "27c59523-eb60-4221-9c2a-20e63c1b3322"
   },
   "outputs": [],
   "source": [
    "sql_query='select * from AI_MORTGAGE.MORTGAGE_APPROVAL_VIEW'\n"
   ]
  },
  {
   "cell_type": "markdown",
   "metadata": {
    "id": "5986f537c99543d8a55c4e0d9d23f589"
   },
   "source": [
    "### Load  training data   <a name=\"data\"></a>\n",
    "\n",
    "Load the received data into a Pandas dataframe."
   ]
  },
  {
   "cell_type": "code",
   "execution_count": 10,
   "metadata": {
    "id": "a64081da-2b3c-4b72-8c0d-f4299b0356d6"
   },
   "outputs": [
    {
     "name": "stderr",
     "output_type": "stream",
     "text": [
      "/tmp/1000680000/ipykernel_214/1025671169.py:1: UserWarning: pandas only supports SQLAlchemy connectable (engine/connection) or database string URI or sqlite3 DBAPI2 connection. Other DBAPI2 objects are not tested. Please consider using SQLAlchemy.\n",
      "  df_mortgage = pd.read_sql_query(sql_query, con=db2_warehouse_datafabric_trial_connection)\n"
     ]
    },
    {
     "data": {
      "text/html": [
       "<div>\n",
       "<style scoped>\n",
       "    .dataframe tbody tr th:only-of-type {\n",
       "        vertical-align: middle;\n",
       "    }\n",
       "\n",
       "    .dataframe tbody tr th {\n",
       "        vertical-align: top;\n",
       "    }\n",
       "\n",
       "    .dataframe thead th {\n",
       "        text-align: right;\n",
       "    }\n",
       "</style>\n",
       "<table border=\"1\" class=\"dataframe\">\n",
       "  <thead>\n",
       "    <tr style=\"text-align: right;\">\n",
       "      <th></th>\n",
       "      <th>ID</th>\n",
       "      <th>NAME</th>\n",
       "      <th>STREET_ADDRESS</th>\n",
       "      <th>CITY</th>\n",
       "      <th>STATE</th>\n",
       "      <th>STATE_CODE</th>\n",
       "      <th>ZIP_CODE</th>\n",
       "      <th>EMAIL_ADDRESS</th>\n",
       "      <th>PHONE_NUMBER</th>\n",
       "      <th>GENDER</th>\n",
       "      <th>SOCIAL_SECURITY_NUMBER</th>\n",
       "      <th>EDUCATION</th>\n",
       "      <th>EMPLOYMENT_STATUS</th>\n",
       "      <th>MARITAL_STATUS</th>\n",
       "      <th>INCOME</th>\n",
       "      <th>APPLIEDONLINE</th>\n",
       "      <th>RESIDENCE</th>\n",
       "      <th>YRS_AT_CURRENT_ADDRESS</th>\n",
       "      <th>YRS_WITH_CURRENT_EMPLOYER</th>\n",
       "      <th>NUMBER_OF_CARDS</th>\n",
       "      <th>CREDITCARD_DEBT</th>\n",
       "      <th>LOANS</th>\n",
       "      <th>LOAN_AMOUNT</th>\n",
       "      <th>CREDIT_SCORE</th>\n",
       "      <th>COMMERCIAL_CLIENT</th>\n",
       "      <th>COMM_FRAUD_INV</th>\n",
       "      <th>PROPERTY_VALUE</th>\n",
       "      <th>AREA_AVG_PRICE</th>\n",
       "      <th>MORTGAGE_APPROVAL</th>\n",
       "    </tr>\n",
       "  </thead>\n",
       "  <tbody>\n",
       "    <tr>\n",
       "      <th>0</th>\n",
       "      <td>110424</td>\n",
       "      <td>Adah Marks</td>\n",
       "      <td>4355-5 Pelham South</td>\n",
       "      <td>Park Ridge</td>\n",
       "      <td>Illinois</td>\n",
       "      <td>IL</td>\n",
       "      <td>41227</td>\n",
       "      <td>Adah.Marks@donny.ca</td>\n",
       "      <td>206-220-3128</td>\n",
       "      <td>Male</td>\n",
       "      <td>403-49-3266</td>\n",
       "      <td>College</td>\n",
       "      <td>Employed</td>\n",
       "      <td>Married</td>\n",
       "      <td>49051.0</td>\n",
       "      <td>YES</td>\n",
       "      <td>Owner Occupier</td>\n",
       "      <td>11</td>\n",
       "      <td>12</td>\n",
       "      <td>2</td>\n",
       "      <td>1168.0</td>\n",
       "      <td>1</td>\n",
       "      <td>7478.0</td>\n",
       "      <td>547</td>\n",
       "      <td>FALSE</td>\n",
       "      <td>FALSE</td>\n",
       "      <td>548618.0</td>\n",
       "      <td>NaN</td>\n",
       "      <td>0</td>\n",
       "    </tr>\n",
       "    <tr>\n",
       "      <th>1</th>\n",
       "      <td>110425</td>\n",
       "      <td>Jerrell Eichmann</td>\n",
       "      <td>5642-1 Hwy 78 East</td>\n",
       "      <td>Reston</td>\n",
       "      <td>Virginia</td>\n",
       "      <td>VA</td>\n",
       "      <td>41198</td>\n",
       "      <td>Jerrell.Eichmann@trycia.biz</td>\n",
       "      <td>972-510-7295</td>\n",
       "      <td>Male</td>\n",
       "      <td>394-17-0450</td>\n",
       "      <td>High School or Below</td>\n",
       "      <td>Unemployed</td>\n",
       "      <td>Married</td>\n",
       "      <td>49052.0</td>\n",
       "      <td>YES</td>\n",
       "      <td>Owner Occupier</td>\n",
       "      <td>11</td>\n",
       "      <td>12</td>\n",
       "      <td>2</td>\n",
       "      <td>1167.0</td>\n",
       "      <td>1</td>\n",
       "      <td>7476.0</td>\n",
       "      <td>547</td>\n",
       "      <td>TRUE</td>\n",
       "      <td>FALSE</td>\n",
       "      <td>548638.0</td>\n",
       "      <td>NaN</td>\n",
       "      <td>0</td>\n",
       "    </tr>\n",
       "    <tr>\n",
       "      <th>2</th>\n",
       "      <td>110426</td>\n",
       "      <td>Glennie Barrows</td>\n",
       "      <td>6736-1 Whitfield Ave</td>\n",
       "      <td>Houston</td>\n",
       "      <td>Texas</td>\n",
       "      <td>TX</td>\n",
       "      <td>41169</td>\n",
       "      <td>Glennie.Barrows@elwin.us</td>\n",
       "      <td>609-564-9894</td>\n",
       "      <td>Female</td>\n",
       "      <td>295-29-1540</td>\n",
       "      <td>High School or Below</td>\n",
       "      <td>Employed</td>\n",
       "      <td>Married</td>\n",
       "      <td>49053.0</td>\n",
       "      <td>YES</td>\n",
       "      <td>Owner Occupier</td>\n",
       "      <td>11</td>\n",
       "      <td>12</td>\n",
       "      <td>2</td>\n",
       "      <td>1166.0</td>\n",
       "      <td>1</td>\n",
       "      <td>7474.0</td>\n",
       "      <td>547</td>\n",
       "      <td>FALSE</td>\n",
       "      <td>FALSE</td>\n",
       "      <td>548658.0</td>\n",
       "      <td>NaN</td>\n",
       "      <td>0</td>\n",
       "    </tr>\n",
       "    <tr>\n",
       "      <th>3</th>\n",
       "      <td>110427</td>\n",
       "      <td>Susanna Schaefer</td>\n",
       "      <td>4529-0 Madison Blvd</td>\n",
       "      <td>Woodridge</td>\n",
       "      <td>Illinois</td>\n",
       "      <td>IL</td>\n",
       "      <td>41140</td>\n",
       "      <td>Susanna.Schaefer@elta.ca</td>\n",
       "      <td>484-261-6798</td>\n",
       "      <td>Female</td>\n",
       "      <td>204-81-0296</td>\n",
       "      <td>Bachelor</td>\n",
       "      <td>Employed</td>\n",
       "      <td>Married</td>\n",
       "      <td>49054.0</td>\n",
       "      <td>YES</td>\n",
       "      <td>Public Housing</td>\n",
       "      <td>11</td>\n",
       "      <td>12</td>\n",
       "      <td>2</td>\n",
       "      <td>1165.0</td>\n",
       "      <td>1</td>\n",
       "      <td>7471.0</td>\n",
       "      <td>547</td>\n",
       "      <td>FALSE</td>\n",
       "      <td>FALSE</td>\n",
       "      <td>548678.0</td>\n",
       "      <td>NaN</td>\n",
       "      <td>0</td>\n",
       "    </tr>\n",
       "    <tr>\n",
       "      <th>4</th>\n",
       "      <td>110428</td>\n",
       "      <td>Jettie Waters</td>\n",
       "      <td>3698-Kelley Blvd</td>\n",
       "      <td>Truckee</td>\n",
       "      <td>California</td>\n",
       "      <td>CA</td>\n",
       "      <td>41110</td>\n",
       "      <td>Jettie.Waters@kacie.co.uk</td>\n",
       "      <td>253-973-4793</td>\n",
       "      <td>Male</td>\n",
       "      <td>161-55-7466</td>\n",
       "      <td>College</td>\n",
       "      <td>Unemployed</td>\n",
       "      <td>Single</td>\n",
       "      <td>49054.0</td>\n",
       "      <td>YES</td>\n",
       "      <td>Living with parents/guardian</td>\n",
       "      <td>11</td>\n",
       "      <td>12</td>\n",
       "      <td>2</td>\n",
       "      <td>1164.0</td>\n",
       "      <td>1</td>\n",
       "      <td>7469.0</td>\n",
       "      <td>546</td>\n",
       "      <td>TRUE</td>\n",
       "      <td>FALSE</td>\n",
       "      <td>548698.0</td>\n",
       "      <td>721244.0</td>\n",
       "      <td>0</td>\n",
       "    </tr>\n",
       "  </tbody>\n",
       "</table>\n",
       "</div>"
      ],
      "text/plain": [
       "       ID              NAME        STREET_ADDRESS        CITY       STATE  \\\n",
       "0  110424        Adah Marks   4355-5 Pelham South  Park Ridge    Illinois   \n",
       "1  110425  Jerrell Eichmann    5642-1 Hwy 78 East      Reston    Virginia   \n",
       "2  110426   Glennie Barrows  6736-1 Whitfield Ave     Houston       Texas   \n",
       "3  110427  Susanna Schaefer   4529-0 Madison Blvd   Woodridge    Illinois   \n",
       "4  110428     Jettie Waters      3698-Kelley Blvd     Truckee  California   \n",
       "\n",
       "  STATE_CODE  ZIP_CODE                EMAIL_ADDRESS  PHONE_NUMBER  GENDER  \\\n",
       "0         IL     41227          Adah.Marks@donny.ca  206-220-3128    Male   \n",
       "1         VA     41198  Jerrell.Eichmann@trycia.biz  972-510-7295    Male   \n",
       "2         TX     41169     Glennie.Barrows@elwin.us  609-564-9894  Female   \n",
       "3         IL     41140     Susanna.Schaefer@elta.ca  484-261-6798  Female   \n",
       "4         CA     41110    Jettie.Waters@kacie.co.uk  253-973-4793    Male   \n",
       "\n",
       "  SOCIAL_SECURITY_NUMBER             EDUCATION EMPLOYMENT_STATUS  \\\n",
       "0            403-49-3266               College          Employed   \n",
       "1            394-17-0450  High School or Below        Unemployed   \n",
       "2            295-29-1540  High School or Below          Employed   \n",
       "3            204-81-0296              Bachelor          Employed   \n",
       "4            161-55-7466               College        Unemployed   \n",
       "\n",
       "  MARITAL_STATUS   INCOME APPLIEDONLINE                     RESIDENCE  \\\n",
       "0        Married  49051.0           YES                Owner Occupier   \n",
       "1        Married  49052.0           YES                Owner Occupier   \n",
       "2        Married  49053.0           YES                Owner Occupier   \n",
       "3        Married  49054.0           YES                Public Housing   \n",
       "4         Single  49054.0           YES  Living with parents/guardian   \n",
       "\n",
       "   YRS_AT_CURRENT_ADDRESS  YRS_WITH_CURRENT_EMPLOYER  NUMBER_OF_CARDS  \\\n",
       "0                      11                         12                2   \n",
       "1                      11                         12                2   \n",
       "2                      11                         12                2   \n",
       "3                      11                         12                2   \n",
       "4                      11                         12                2   \n",
       "\n",
       "   CREDITCARD_DEBT  LOANS  LOAN_AMOUNT  CREDIT_SCORE COMMERCIAL_CLIENT  \\\n",
       "0           1168.0      1       7478.0           547             FALSE   \n",
       "1           1167.0      1       7476.0           547              TRUE   \n",
       "2           1166.0      1       7474.0           547             FALSE   \n",
       "3           1165.0      1       7471.0           547             FALSE   \n",
       "4           1164.0      1       7469.0           546              TRUE   \n",
       "\n",
       "  COMM_FRAUD_INV  PROPERTY_VALUE  AREA_AVG_PRICE  MORTGAGE_APPROVAL  \n",
       "0          FALSE        548618.0             NaN                  0  \n",
       "1          FALSE        548638.0             NaN                  0  \n",
       "2          FALSE        548658.0             NaN                  0  \n",
       "3          FALSE        548678.0             NaN                  0  \n",
       "4          FALSE        548698.0        721244.0                  0  "
      ]
     },
     "execution_count": 10,
     "metadata": {},
     "output_type": "execute_result"
    }
   ],
   "source": [
    "df_mortgage = pd.read_sql_query(sql_query, con=db2_warehouse_datafabric_trial_connection)\n",
    "\n",
    "df_mortgage.head()"
   ]
  },
  {
   "cell_type": "code",
   "execution_count": 11,
   "metadata": {
    "id": "7fc809c8822749b986d3f504fbdf9c7a"
   },
   "outputs": [
    {
     "data": {
      "text/plain": [
       "{'file_name': 'MORTGAGE_APPROVAL_VIEW.csv',\n",
       " 'message': 'File saved to project storage.',\n",
       " 'asset_id': '12d50598-c135-4a90-9d5d-b96be0aa1315'}"
      ]
     },
     "execution_count": 11,
     "metadata": {},
     "output_type": "execute_result"
    }
   ],
   "source": [
    "project.save_data(\"MORTGAGE_APPROVAL_VIEW.csv\",df_mortgage.to_csv(),overwrite=True)"
   ]
  },
  {
   "cell_type": "markdown",
   "metadata": {
    "id": "145a804ba16340618b700991823c855a"
   },
   "source": [
    "### Specify User Inputs <a name=\"userinputs\"></a>\n",
    "\n",
    "These user inputs are defined in the cell below.\n",
    "\n",
    "**target_col :** This is the target column indicating whether a mortgage application is approved or not.<br>\n",
    "**categorical_cols :** A list of all categorical variables that need to be transformed before input into the model. You will use a transformer to impute missing values and create dummy variables.<br>\n",
    "**numerical_cols :** A list of all of the numerical features that you input into the model. Later in the code, you use a transformer to impute any missing values in these columns. Flag like variables, with values of either 1 or 0 are included in this list.<br>\n",
    "**cat_pct :** A threshold that defines the percentage of unique values in a categorical feature that is acceptable for one-hot encoding.<br>\n",
    "**cor_pct :** A threshold that defines the level of correlation, at which point a feature needs to be removed from analysis.<br>\n",
    "\n",
    "\n",
    "If the data scientist is using their own data, they can easily update the variables below to point at their own specific column names.\n",
    "\n",
    "All of these variables are stored in a dictionary which is saved as part of the metadata when deploying the pipeline in the deployment space. you store this dictionary so that the same user inputs can be applied when scoring new data."
   ]
  },
  {
   "cell_type": "code",
   "execution_count": 12,
   "metadata": {
    "id": "d14e30718627465d8a99f1c06caeb4b4"
   },
   "outputs": [],
   "source": [
    "numerical_cols=['INCOME','YRS_AT_CURRENT_ADDRESS','YRS_WITH_CURRENT_EMPLOYER','NUMBER_OF_CARDS','CREDITCARD_DEBT','LOAN_AMOUNT','CREDIT_SCORE','PROPERTY_VALUE','AREA_AVG_PRICE','LOANS']\n",
    "target_col='MORTGAGE_APPROVAL'\n",
    "categorical_cols=['STATE','GENDER','EDUCATION','EMPLOYMENT_STATUS','MARITAL_STATUS','APPLIEDONLINE','RESIDENCE','COMMERCIAL_CLIENT','COMM_FRAUD_INV']\n",
    "\n",
    "\n",
    "cat_pct = 0.04\n",
    "cor_pct = 0.90"
   ]
  },
  {
   "cell_type": "code",
   "execution_count": 13,
   "metadata": {
    "id": "3eccae5d37ce4f9a984388693ba16021"
   },
   "outputs": [],
   "source": [
    "df_prep=df_mortgage[numerical_cols+[target_col]+categorical_cols].copy()"
   ]
  },
  {
   "cell_type": "markdown",
   "metadata": {
    "id": "b323548affc1430a87271c9dc6c1edbe"
   },
   "source": [
    "#### Handle categorical variables\n",
    "Categorical variables with a high number of unique values can significantly impact performance, because they may add too many one-hot encoded features to the dataset. Such categorical variables need to be removed."
   ]
  },
  {
   "cell_type": "code",
   "execution_count": 14,
   "metadata": {
    "id": "42609d3cea9a4bee8c635b2c7c8b314a"
   },
   "outputs": [
    {
     "name": "stdout",
     "output_type": "stream",
     "text": [
      "STATE removed\n"
     ]
    }
   ],
   "source": [
    "for col in categorical_cols:\n",
    "    if df_prep[col].nunique() > (cat_pct*df_prep.shape[0]):\n",
    "        print(col,\"removed\")\n",
    "        categorical_cols.remove(col)\n",
    "        df_prep=df_prep.drop(col,axis=1)"
   ]
  },
  {
   "cell_type": "markdown",
   "metadata": {
    "id": "d0f5481b501943d6acfb0ae36e3d2802"
   },
   "source": [
    "Also remove the columns which have only one single category for all the rows."
   ]
  },
  {
   "cell_type": "code",
   "execution_count": 15,
   "metadata": {
    "id": "8968d79ecc234cee9d7c915852d9aba8"
   },
   "outputs": [],
   "source": [
    "for col in categorical_cols:\n",
    "    if df_prep[col].nunique() ==1:\n",
    "        print(col,\"removed\")\n",
    "        categorical_cols.remove(col)\n",
    "        df_prep=df_prep.drop(col,axis=1)"
   ]
  },
  {
   "cell_type": "markdown",
   "metadata": {
    "id": "877f48bc5e3e459b96e0e329c9285f0f"
   },
   "source": [
    "Training Data"
   ]
  },
  {
   "cell_type": "code",
   "execution_count": 16,
   "metadata": {
    "id": "f344a5c7b9c043c1b402b6c58d6dfb77"
   },
   "outputs": [
    {
     "data": {
      "image/png": "[encoded data removed]",
      "text/plain": [
       "<Figure size 500x500 with 1 Axes>"
      ]
     },
     "metadata": {},
     "output_type": "display_data"
    }
   ],
   "source": [
    "\n",
    "df_temp = df_prep[target_col].value_counts().reset_index()\n",
    "df_temp['perc'] = df_temp[target_col] / df_temp[target_col].sum()\n",
    "\n",
    "target_0 = df_temp[df_temp['index']==0]['perc'].values[0]\n",
    "target_1 = df_temp[df_temp['index']==1]['perc'].values[0]\n",
    "\n",
    "fig1, ax1 = plt.subplots(figsize=(5,5))\n",
    "\n",
    "ax1.bar(target_col, target_0, label=target_0, color='blue')\n",
    "ax1.bar(target_col, target_1, bottom=target_0, color='orange')\n",
    "\n",
    "red_patch = mpatches.Patch(color='orange', label='1')\n",
    "blue_patch = mpatches.Patch(color='blue', label='0')\n",
    "\n",
    "plt.legend(handles=[blue_patch, red_patch], loc='best')\n",
    "\n",
    "plt.title('Target Distribution')\n",
    "\n",
    "for patch in ax1.patches:\n",
    "    percentage = '{:.1f}%'.format(100 * patch.get_height())\n",
    "    x = patch.get_x() + patch.get_width()/2\n",
    "    y = patch.get_y() + patch.get_height()/6\n",
    "    ax1.annotate(percentage, (x, y), ha='center', color='white', weight='bold', fontsize=10)"
   ]
  },
  {
   "cell_type": "markdown",
   "metadata": {
    "id": "d9623b8dee4349839f9eddbeb3c86a8d"
   },
   "source": [
    "#### Correlation\n",
    "You will carry out a correlation analysis on all variables specified in numerical_cols.\n",
    "\n",
    "From the result of the analysis, you can see that there is no significant correlation between the columns. "
   ]
  },
  {
   "cell_type": "code",
   "execution_count": 17,
   "metadata": {
    "id": "1a24004de6ef46069c199b0b8a346313"
   },
   "outputs": [
    {
     "data": {
      "image/png": "[encoded data removed]",
      "text/plain": [
       "<Figure size 1000x1000 with 2 Axes>"
      ]
     },
     "metadata": {},
     "output_type": "display_data"
    }
   ],
   "source": [
    "# check correlation between numerical features\n",
    "f, ax = plt.subplots(figsize=(10, 10))\n",
    "corr = df_prep[numerical_cols + [target_col]].corr()\n",
    "corr = corr.round(3)\n",
    "temp = sns.heatmap(corr, mask=np.zeros_like(corr, dtype=bool), cmap=sns.diverging_palette(220, 10, as_cmap=True),\n",
    "           square=True, ax=ax,annot=True)"
   ]
  },
  {
   "cell_type": "markdown",
   "metadata": {
    "id": "48eb25fdaf7a43f8bb225bce1c22f8be"
   },
   "source": [
    "#### Handle correlations\n",
    "Correlated data poses the threat of disproportionately reporting the effects of features with relatively similarly. This cell removes highly correlated columns, if any."
   ]
  },
  {
   "cell_type": "code",
   "execution_count": 18,
   "metadata": {
    "id": "872a2121f55b4507bd49a7cf5ac29d6c"
   },
   "outputs": [],
   "source": [
    "corr = corr.abs()\n",
    "upper = corr.where(np.triu(np.ones(corr.shape), k=1).astype(bool))\n",
    "to_drop = [col for col in upper.columns if any(upper[col] >= cor_pct)]\n",
    "\n",
    "df_prep = df_prep.drop(to_drop, axis=1)\n",
    "\n",
    "if(len(to_drop)>0):\n",
    "    numerical_cols.remove(to_drop[0])\n",
    "    print(to_drop,\"Removed because of high correlation\")"
   ]
  },
  {
   "cell_type": "markdown",
   "metadata": {
    "id": "08a2f3163ae846f2857cbebc8c1292ae"
   },
   "source": [
    "### Build Data Pipelines  <a name=\"transformers\"></a>\n",
    "#### Split Data and Build Transformer\n",
    "\n",
    "\n",
    "The data needs to be split into training, validation and test sets. You will be using 80% of the data for training, and the remaining 20% for testing. At this point, you will also be removing records with missing values for the target variable. \n",
    "\n",
    "You build the models on the training set, carry out hyperparameter tuning on the test set and finally apply the selected final model. Sci-kit learn's transformers will be leveraged to process and prepare the data.\n"
   ]
  },
  {
   "cell_type": "code",
   "execution_count": 19,
   "metadata": {
    "id": "0ce00547f1dc454e89487edc3fefb7d7"
   },
   "outputs": [],
   "source": [
    "X = df_prep.dropna(axis=0, subset=[target_col]).drop([target_col], axis=1)\n",
    "y = df_prep.dropna(axis=0, subset=[target_col])[target_col]\n",
    "X_train, X_test, y_train, y_test = train_test_split(X, y, test_size=0.20, random_state=123)"
   ]
  },
  {
   "cell_type": "markdown",
   "metadata": {
    "id": "022945df-6bfb-4ac5-8a70-d465532c9d85"
   },
   "source": [
    "\n",
    "For categorical variables,a 2 step pipeline is created. The `SimpleImputer` transformer will fill in missing values with 'Other', while the `OneHotEncoder` transformer will create dummy variables for each category. The transformers are applied to the features specified in the `categorical_cols` variable.\n",
    "\n",
    "For `numerical_cols`variables the pipeline has a single step in our example. You again leverage the `SimpleImputer` transformer to fill in missing values.\n",
    "\n"
   ]
  },
  {
   "cell_type": "code",
   "execution_count": 20,
   "metadata": {
    "id": "0a57e5c4603d4472882f2ff9ba1ce08c"
   },
   "outputs": [],
   "source": [
    "categorical_transformer = Pipeline(steps=[('impute_missing', SimpleImputer(strategy='constant', fill_value='Other')), ('dummy_vars', OneHotEncoder(handle_unknown='ignore'))])\n",
    "# fill in missing data - you use median to keep the 1, 0  'flag' like variables either 1 or 0\n",
    "numeric_transformer = Pipeline(steps=[('impute_missing', SimpleImputer(strategy='median'))])"
   ]
  },
  {
   "cell_type": "code",
   "execution_count": 21,
   "metadata": {
    "id": "ba12fa10bc40406b91468f67b842ecac"
   },
   "outputs": [],
   "source": [
    "preprocessor = ColumnTransformer(\n",
    "    transformers=[\n",
    "        ('num', numeric_transformer, numerical_cols),\n",
    "        ('cat', categorical_transformer, categorical_cols)\n",
    "            ])"
   ]
  },
  {
   "cell_type": "markdown",
   "metadata": {
    "id": "72cfbc84-37d7-49f3-8202-bcf4fa89d69c"
   },
   "source": [
    "Once the transformers are combined, you perform a fit using the training data and transform the training, validation and test data. The transformer is saved out as a joblib object. It can be imported and used again when preparing new data for scoring. The feature names of the combined transformers are retrieved and stored in a list `numerical_cols`. This list is used for labelling the feature importance of the final model."
   ]
  },
  {
   "cell_type": "code",
   "execution_count": 22,
   "metadata": {
    "id": "057fae0393bc49eb9fe6f167877574b6"
   },
   "outputs": [],
   "source": [
    "fitted_preprocessor = preprocessor.fit(X_train)\n",
    "\n",
    "X_train_postprocess = fitted_preprocessor.transform(X_train)\n",
    "\n",
    "X_test_postprocess = preprocessor.transform(X_test)"
   ]
  },
  {
   "cell_type": "code",
   "execution_count": 23,
   "metadata": {
    "id": "50d8fb4d968d42cb92ba4f384d7a5fe9"
   },
   "outputs": [],
   "source": [
    "onehot_columns=list(fitted_preprocessor.named_transformers_['cat'].named_steps['dummy_vars'].get_feature_names_out(input_features=categorical_cols))\n",
    "numeric_features_list = list(numerical_cols)\n",
    "numeric_features_list.extend(onehot_columns)"
   ]
  },
  {
   "cell_type": "markdown",
   "metadata": {
    "id": "aa65af62aec544238b046bd851e61985"
   },
   "source": [
    "### Building Machine Learning Models <a name=\"ml\"></a>\n",
    "\n",
    "#### Model Hyperparameter Tuning and Model Selection\n",
    "\n",
    "A Random Forest Model will be used for this tutorial, and that will require some hyperparameter tuning. The hyperparameter selection which performs best on the imbalanced validation data is selected as final. To determine this, you will be using ROC AUC as the evaluation metric."
   ]
  },
  {
   "cell_type": "code",
   "execution_count": 24,
   "metadata": {
    "id": "94d1745066f841d98c2c1c8273e73a6a"
   },
   "outputs": [
    {
     "name": "stdout",
     "output_type": "stream",
     "text": [
      "2023/10/16 11:58:25 INFO : logging results to factsheet for run_id 2219b31d93df4af9874f340595611152\n",
      "2023/10/16 11:58:25 INFO : Successfully logged results to Factsheet service for run_id 2219b31d93df4af9874f340595611152 under asset_id: c3323596-22d2-42e2-ace7-0373d1a8ea7d and project_id : c36314de-78f3-42e9-9617-31669038b966\n",
      "Training AUC : 0.998, Test AUC :0.967 from 10 estimators, 5 max depth and 0.75 max features***\n",
      "2023/10/16 11:58:26 INFO : logging results to factsheet for run_id 456efa9a1edb40579270ceacac33063e\n",
      "2023/10/16 11:58:27 INFO : Successfully logged results to Factsheet service for run_id 456efa9a1edb40579270ceacac33063e under asset_id: c3323596-22d2-42e2-ace7-0373d1a8ea7d and project_id : c36314de-78f3-42e9-9617-31669038b966\n",
      "Training AUC : 0.997, Test AUC :0.969 from 10 estimators, 5 max depth and 0.9 max features***\n",
      "2023/10/16 11:58:28 INFO : logging results to factsheet for run_id 584f7e36e4cf437ab4924c2fc91e0998\n",
      "2023/10/16 11:58:28 INFO : Successfully logged results to Factsheet service for run_id 584f7e36e4cf437ab4924c2fc91e0998 under asset_id: c3323596-22d2-42e2-ace7-0373d1a8ea7d and project_id : c36314de-78f3-42e9-9617-31669038b966\n",
      "Training AUC : 0.999, Test AUC :0.971 from 10 estimators, 7 max depth and 0.75 max features***\n",
      "2023/10/16 11:58:29 INFO : logging results to factsheet for run_id 47c928435510426484fe2b4fdcef00d0\n",
      "2023/10/16 11:58:30 INFO : Successfully logged results to Factsheet service for run_id 47c928435510426484fe2b4fdcef00d0 under asset_id: c3323596-22d2-42e2-ace7-0373d1a8ea7d and project_id : c36314de-78f3-42e9-9617-31669038b966\n",
      "Training AUC : 0.999, Test AUC :0.966 from 10 estimators, 7 max depth and 0.9 max features\n",
      "2023/10/16 11:58:31 INFO : logging results to factsheet for run_id 64378635e79b479495a7afdbc121227a\n",
      "2023/10/16 11:58:31 INFO : Successfully logged results to Factsheet service for run_id 64378635e79b479495a7afdbc121227a under asset_id: c3323596-22d2-42e2-ace7-0373d1a8ea7d and project_id : c36314de-78f3-42e9-9617-31669038b966\n",
      "Training AUC : 1.0, Test AUC :0.971 from 10 estimators, 10 max depth and 0.75 max features***\n",
      "2023/10/16 11:58:32 INFO : logging results to factsheet for run_id f3787fbf395b419d8c01a9a8def2e705\n",
      "2023/10/16 11:58:33 INFO : Successfully logged results to Factsheet service for run_id f3787fbf395b419d8c01a9a8def2e705 under asset_id: c3323596-22d2-42e2-ace7-0373d1a8ea7d and project_id : c36314de-78f3-42e9-9617-31669038b966\n",
      "Training AUC : 1.0, Test AUC :0.968 from 10 estimators, 10 max depth and 0.9 max features\n",
      "2023/10/16 11:58:34 INFO : logging results to factsheet for run_id 3c05fa6edd6d434cb25980c4cc8350d2\n",
      "2023/10/16 11:58:35 INFO : Successfully logged results to Factsheet service for run_id 3c05fa6edd6d434cb25980c4cc8350d2 under asset_id: c3323596-22d2-42e2-ace7-0373d1a8ea7d and project_id : c36314de-78f3-42e9-9617-31669038b966\n",
      "Training AUC : 0.999, Test AUC :0.976 from 50 estimators, 5 max depth and 0.75 max features***\n",
      "2023/10/16 11:58:36 INFO : logging results to factsheet for run_id 41161da8999241fcb93640405330f80d\n",
      "2023/10/16 11:58:36 INFO : Successfully logged results to Factsheet service for run_id 41161da8999241fcb93640405330f80d under asset_id: c3323596-22d2-42e2-ace7-0373d1a8ea7d and project_id : c36314de-78f3-42e9-9617-31669038b966\n",
      "Training AUC : 0.998, Test AUC :0.976 from 50 estimators, 5 max depth and 0.9 max features***\n",
      "2023/10/16 11:58:38 INFO : logging results to factsheet for run_id 37589b10e002460dacdfb726c66ca689\n",
      "2023/10/16 11:58:38 INFO : Successfully logged results to Factsheet service for run_id 37589b10e002460dacdfb726c66ca689 under asset_id: c3323596-22d2-42e2-ace7-0373d1a8ea7d and project_id : c36314de-78f3-42e9-9617-31669038b966\n",
      "Training AUC : 1.0, Test AUC :0.974 from 50 estimators, 7 max depth and 0.75 max features\n",
      "2023/10/16 11:58:39 INFO : logging results to factsheet for run_id 0ef60f3b8c6f47c28815c572d3bcdcb5\n",
      "2023/10/16 11:58:40 INFO : Successfully logged results to Factsheet service for run_id 0ef60f3b8c6f47c28815c572d3bcdcb5 under asset_id: c3323596-22d2-42e2-ace7-0373d1a8ea7d and project_id : c36314de-78f3-42e9-9617-31669038b966\n",
      "Training AUC : 1.0, Test AUC :0.978 from 50 estimators, 7 max depth and 0.9 max features***\n",
      "2023/10/16 11:58:41 INFO : logging results to factsheet for run_id 12e67695e20649e3b6096261e825628e\n",
      "2023/10/16 11:58:42 INFO : Successfully logged results to Factsheet service for run_id 12e67695e20649e3b6096261e825628e under asset_id: c3323596-22d2-42e2-ace7-0373d1a8ea7d and project_id : c36314de-78f3-42e9-9617-31669038b966\n",
      "Training AUC : 1.0, Test AUC :0.973 from 50 estimators, 10 max depth and 0.75 max features\n",
      "2023/10/16 11:58:43 INFO : logging results to factsheet for run_id 65a9369b09b049d8b885416e34f8ab60\n",
      "2023/10/16 11:58:44 INFO : Successfully logged results to Factsheet service for run_id 65a9369b09b049d8b885416e34f8ab60 under asset_id: c3323596-22d2-42e2-ace7-0373d1a8ea7d and project_id : c36314de-78f3-42e9-9617-31669038b966\n",
      "Training AUC : 1.0, Test AUC :0.976 from 50 estimators, 10 max depth and 0.9 max features\n"
     ]
    }
   ],
   "source": [
    "l_ne = [10, 50]\n",
    "l_md = [5,7, 10] \n",
    "l_mf = [0.75, 0.9]\n",
    "\n",
    "highest_test_auc = 0.0\n",
    "top_ne = 0\n",
    "top_md = 0\n",
    "top_mf = 0.0\n",
    "\n",
    "for ne in l_ne:\n",
    "    for md in l_md:\n",
    "        for mf in l_mf:\n",
    "            clf = RandomForestClassifier(n_estimators=ne, max_depth=md, max_features=mf, random_state=0)\n",
    "            clf.fit(X_train_postprocess, y_train)\n",
    "            \n",
    "            y_pred_train = clf.predict_proba(X_train_postprocess)[:,1]\n",
    "            y_pred_test = clf.predict_proba(X_test_postprocess)[:,1]\n",
    "            \n",
    "            fpr_test, tpr_test, thresholds_test = metrics.roc_curve(y_test, y_pred_test)\n",
    "            fpr_train, tpr_train, thresholds_train = metrics.roc_curve(y_train, y_pred_train)\n",
    "\n",
    "            auc_test = metrics.auc(fpr_test, tpr_test)\n",
    "            auc_train = metrics.auc(fpr_train, tpr_train)\n",
    "            \n",
    "            if auc_test > highest_test_auc:\n",
    "                print('Training AUC : ' + str(np.round(auc_train, 3)) + ', Test AUC :' + str(np.round(auc_test, 3)) + ' from ' + str(ne) + ' estimators, ' + str(md) + ' max depth and ' + str(mf) + ' max features***')\n",
    "                top_ne = ne\n",
    "                top_md = md\n",
    "                top_mf = mf\n",
    "                highest_test_auc = auc_test\n",
    "            else:\n",
    "                print('Training AUC : ' + str(np.round(auc_train, 3)) + ', Test AUC :' + str(np.round(auc_test, 3)) + ' from ' + str(ne) + ' estimators, ' + str(md) + ' max depth and ' + str(mf) + ' max features')\n",
    "                "
   ]
  },
  {
   "cell_type": "markdown",
   "metadata": {
    "id": "f87e62b131094d13a4af64d2ab21e3f8"
   },
   "source": [
    "### Build Final Model \n",
    "\n",
    "After finding the best performing hyperparameter combination, you apply them to our final model. The model is built using training data and then evaluated using validation data. The final model and results are logged into the factsheet experiment."
   ]
  },
  {
   "cell_type": "code",
   "execution_count": 25,
   "metadata": {
    "id": "c9ccc9b5d67b4bbc936d89415c23edd8"
   },
   "outputs": [
    {
     "name": "stdout",
     "output_type": "stream",
     "text": [
      "2023/10/16 11:58:45 INFO : logging results to factsheet for run_id a807395f99924365ac33885fd5d5b6ac\n",
      "2023/10/16 11:58:46 INFO : Successfully logged results to Factsheet service for run_id a807395f99924365ac33885fd5d5b6ac under asset_id: c3323596-22d2-42e2-ace7-0373d1a8ea7d and project_id : c36314de-78f3-42e9-9617-31669038b966\n",
      "Training AUC : 1.0 and Test AUC :0.978 from 50 estimators, 7 max depth and 0.9 max features\n"
     ]
    }
   ],
   "source": [
    "model_pipeline = Pipeline(steps=[('preprocessor', preprocessor),\n",
    "                      ('model', RandomForestClassifier(n_estimators=top_ne, max_depth=top_md, max_features=top_mf, random_state=0))])\n",
    "\n",
    "clf=model_pipeline.fit(X_train, y_train)\n",
    "y_pred_train=model_pipeline.predict(X_train)\n",
    "y_pred_test=model_pipeline.predict(X_test)\n",
    "\n",
    "y_pred_train = model_pipeline.predict_proba(X_train)[:,1]\n",
    "#y_pred_validation = model_pipeline.predict_proba(X_validation)[:,1]\n",
    "y_pred_test = model_pipeline.predict_proba(X_test)[:,1]\n",
    "\n",
    "\n",
    "\n",
    "fpr_train, tpr_train, thresholds_train = metrics.roc_curve(y_train, y_pred_train)\n",
    "#fpr_validation, tpr_validation, thresholds_validation = metrics.roc_curve(y_validation, y_pred_validation)\n",
    "fpr_test, tpr_test, thresholds_test = metrics.roc_curve(y_test, y_pred_test)\n",
    "\n",
    "auc_train = metrics.auc(fpr_train, tpr_train)\n",
    "#auc_validation = metrics.auc(fpr_validation, tpr_validation)\n",
    "auc_test = metrics.auc(fpr_test, tpr_test)\n",
    "\n",
    "print('Training AUC : ' + str(np.round(auc_train, 3)) +  ' and Test AUC :' + str(np.round(auc_test, 3)) + ' from ' + str(top_ne) + ' estimators, ' + str(top_md) + ' max depth and ' + str(top_mf) + ' max features')\n",
    "\n"
   ]
  },
  {
   "cell_type": "markdown",
   "metadata": {
    "id": "392f32c20afd447f81778ef1be8f944b"
   },
   "source": [
    "### View Model Results <a name=\"results\"></a>\n",
    "\n",
    "First you'll look at the plot of the ROC curve since you used area under the ROC curve (AUC) as the model evaluation metric. The ROC curve is a plot of the true positive rate `(Sensitivity)` and false positive rate `(Specificity)`. Each point on the ROC curve represents a sensitivity/specificity pair corresponding to a particular decision threshold."
   ]
  },
  {
   "cell_type": "code",
   "execution_count": 26,
   "metadata": {
    "id": "25fb1b1c820a4665a1b500f0ae30f7ce"
   },
   "outputs": [
    {
     "data": {
      "image/png": "[encoded data removed]",
      "text/plain": [
       "<Figure size 1000x500 with 1 Axes>"
      ]
     },
     "metadata": {},
     "output_type": "display_data"
    }
   ],
   "source": [
    "fig = plt.figure(figsize=(10,5))\n",
    "plt.plot([0, 1], [0, 1], label='random')\n",
    "\n",
    "#plt.plot(fpr_validation, tpr_validation, label= 'Validation AUC=' + str(np.round(auc_test, 2)) + ')')\n",
    "plt.plot(fpr_test, tpr_test, label= 'Test AUC=' + str(np.round(auc_test, 2)) + ')')\n",
    "\n",
    "plt.xlabel('False positive rate')\n",
    "plt.ylabel('True positive rate')\n",
    "plt.title('ROC curve')\n",
    "plt.legend(loc='best')\n",
    "\n",
    "plt.show()"
   ]
  },
  {
   "cell_type": "code",
   "execution_count": 27,
   "metadata": {
    "id": "0ea89856a4494c55ba7caf8f976c92ff"
   },
   "outputs": [
    {
     "name": "stdout",
     "output_type": "stream",
     "text": [
      "0.33494044955995816\n"
     ]
    }
   ],
   "source": [
    "# get the optimal threshold based on Youden's index\n",
    "idx_opt_thres = np.argmax(tpr_test - fpr_test)\n",
    "opt_threshold = thresholds_test[idx_opt_thres]\n",
    "print(opt_threshold)\n",
    "y_pred_class_test = y_pred_test >= opt_threshold\n",
    "y_pred_class_test = y_pred_class_test.astype(int)\n",
    "#y_pred_class_test = y_pred_test >= opt_threshold\n",
    "#y_pred_class_test = y_pred_test.astype(int)"
   ]
  },
  {
   "cell_type": "markdown",
   "metadata": {
    "id": "73ce60bee3364ab786d193c7d196cc5a"
   },
   "source": [
    "You'll next look at the confusion matrices for the validation and test results at the threshold selected above. At this threshold the classifier does a good job at correctly predicting those who readmit or not. However, it also misclassifies quite a few customers as who are approved of loan as not approved (False Positives). This result may not be sufficient to the Bank. Based on this, the analyst may want to change the threshold by reducing the false positive rate (as commented out above). Doing this does result in a trade off and the number of true positives (individuals that will truly default on their loans) would reduce. "
   ]
  },
  {
   "cell_type": "code",
   "execution_count": 28,
   "metadata": {
    "id": "786a157c675f439580ff00c7c1ad15fa"
   },
   "outputs": [
    {
     "data": {
      "image/png": "[encoded data removed]",
      "text/plain": [
       "<Figure size 2400x500 with 2 Axes>"
      ]
     },
     "metadata": {},
     "output_type": "display_data"
    }
   ],
   "source": [
    "confusion_matrix_validation = metrics.confusion_matrix(y_test, y_pred_class_test, labels=[0,1])\n",
    "confusion_matrix_test = metrics.confusion_matrix(y_test, y_pred_class_test, labels=[0,1])\n",
    "\n",
    "fig, (ax1, ax2) = plt.subplots(1, 2, figsize=(24, 5))\n",
    "\n",
    "ax1.imshow(confusion_matrix_validation, interpolation='nearest', cmap=plt.cm.Blues)\n",
    "ax1.set_title('Confusion Matrix - Test Data')\n",
    "tick_marks = np.arange(2)\n",
    "ax1.set_xticks(tick_marks)\n",
    "ax1.set_yticks(tick_marks)\n",
    "ax1.set_ylabel('Actual Label')\n",
    "ax1.set_xlabel('Predicted Label')\n",
    "# iterate through the confusion matrix array with indexing, use this to plot counts on the chart\n",
    "cm_iterator = np.nditer(confusion_matrix_validation, flags=['multi_index'])\n",
    "while not cm_iterator.finished:\n",
    "    num_occurances = cm_iterator[0]\n",
    "    y = cm_iterator.multi_index[0]\n",
    "    x = cm_iterator.multi_index[1]\n",
    "    ax1.text(x, y, num_occurances, color=\"white\" if confusion_matrix_validation[x, y] > confusion_matrix_validation.max()/2 else \"black\", ha='center', va='center')\n",
    "    cm_iterator.iternext()\n",
    "\n",
    "ax2.imshow(confusion_matrix_test, interpolation='nearest', cmap=plt.cm.Blues)\n",
    "ax2.set_title('Confusion Matrix - Test Data')\n",
    "ax2.set_xticks(tick_marks)\n",
    "ax2.set_yticks(tick_marks)\n",
    "ax2.set_ylabel('Actual Label')\n",
    "ax2.set_xlabel('Predicted Label')\n",
    "# iterate through the confusion matrix array with indexing, use this to plot counts on the chart\n",
    "cm_iterator = np.nditer(confusion_matrix_test, flags=['multi_index'])\n",
    "while not cm_iterator.finished:\n",
    "    num_occurances = cm_iterator[0]\n",
    "    y = cm_iterator.multi_index[0]\n",
    "    x = cm_iterator.multi_index[1]\n",
    "    ax2.text(x, y, num_occurances, color=\"white\" if confusion_matrix_test[x, y] > confusion_matrix_test.max()/2 else \"black\", ha='center', va='center')\n",
    "    cm_iterator.iternext()"
   ]
  },
  {
   "cell_type": "markdown",
   "metadata": {
    "id": "78ab6214f0bc4d4d8f29a866686ebf11"
   },
   "source": [
    "### Save the Model <a name=\"save\"></a>\n",
    "\n",
    "You select the top performing model pipeline. In the next steps, you save the model pipeline along with metadata information in the project using [ibm-watson-machine-learning](https://ibm.github.io/watson-machine-learning-sdk/) client.\n",
    "\n",
    "\n"
   ]
  },
  {
   "cell_type": "markdown",
   "metadata": {
    "id": "68d9a00304194b00ac787ff258170d51"
   },
   "source": [
    "#### User Inputs\n",
    "\n",
    "The user can specify the name for the model below.  <br>\n"
   ]
  },
  {
   "cell_type": "code",
   "execution_count": 29,
   "metadata": {
    "id": "57c3b8539d06447287e1da4580f708c1"
   },
   "outputs": [],
   "source": [
    "\n",
    "model_name = 'Mortgage Approval Prediction Model with custom facts'\n"
   ]
  },
  {
   "cell_type": "markdown",
   "metadata": {
    "id": "968c35a0-c006-4a32-b146-be8460f6c372"
   },
   "source": [
    "This cell imports `ibm_watson_machine_learning` library and then creates a wml client using the credentials provided."
   ]
  },
  {
   "cell_type": "code",
   "execution_count": 30,
   "metadata": {
    "id": "d1c27def9f1f4d0d8a1a1f42021c4988"
   },
   "outputs": [],
   "source": [
    "\n",
    "from ibm_watson_machine_learning import APIClient\n",
    "\n",
    "\n",
    "token = os.environ['USER_ACCESS_TOKEN']\n",
    "\n",
    "wml_credentials = {\n",
    "   \"token\": token,\n",
    "   \"instance_id\" : \"openshift\",\n",
    "   \"url\": os.environ['RUNTIME_ENV_APSX_URL'],\n",
    "   \"version\": \"4.8\"\n",
    "}\n",
    "\n",
    "client = APIClient(wml_credentials)"
   ]
  },
  {
   "cell_type": "markdown",
   "metadata": {
    "id": "a11b42a2-882c-470f-9490-8d8e50cb3184"
   },
   "source": [
    "Set the current project as the default project to save the model."
   ]
  },
  {
   "cell_type": "code",
   "execution_count": 31,
   "metadata": {
    "id": "09968ac46f4242448846dcf01a55cb31"
   },
   "outputs": [],
   "source": [
    "PROJECT_UID=os.environ['PROJECT_ID']\n"
   ]
  },
  {
   "cell_type": "code",
   "execution_count": 32,
   "metadata": {
    "id": "e6fbd454-fb5d-4374-b51d-29fbaf14a066"
   },
   "outputs": [
    {
     "data": {
      "text/plain": [
       "'SUCCESS'"
      ]
     },
     "execution_count": 32,
     "metadata": {},
     "output_type": "execute_result"
    }
   ],
   "source": [
    "\n",
    "client.set.default_project(PROJECT_UID)"
   ]
  },
  {
   "cell_type": "markdown",
   "metadata": {
    "id": "fd379c75c7544faa821d07a49a751d72"
   },
   "source": [
    "#### Storing Pipeline Details\n",
    "\n",
    "Storing the model requires us to curate and specify some properties:</br>\n",
    "• The name for the pipeline as specified above </br>\n",
    "• Training data reference, that points to the data used to train the model.</br>\n",
    "• The Software Specification, that refers to the runtime used in this Notebook and the WML deployment. You use the software specification `runtime-22.2-py3.10` to store the models.</br>"
   ]
  },
  {
   "cell_type": "code",
   "execution_count": 33,
   "metadata": {
    "id": "696849204255478d8533eca704fa9239"
   },
   "outputs": [],
   "source": [
    "fields=X_train.columns.tolist()\n",
    "metadata_dict = {'target_col' : target_col, 'probability_threshold' : opt_threshold, 'numeric_features_list':numeric_features_list,'fields':fields,'categorical_cols':categorical_cols}\n"
   ]
  },
  {
   "cell_type": "code",
   "execution_count": 34,
   "metadata": {
    "id": "55665039-5ffc-4170-adc1-df4bca731152"
   },
   "outputs": [],
   "source": [
    "connection_details = client.connections.get_details()\n",
    "conn_detail = connection_details['resources'][0]\n",
    "connection_id = client.connections.get_uid(conn_detail)\n",
    "\n",
    "training_data_references = [\n",
    "                {\n",
    "                    \"id\": \"Mortgage_data\",\n",
    "                    \"type\": \"connection_asset\",\n",
    "                    \"connection\": {\n",
    "                        \"id\": connection_id,\n",
    "                    },\n",
    "                    \"location\": {\n",
    "                        \"select_statement\": sql_query,\n",
    "                        \"table_name\": \"Mortgage_Approval_view\"\n",
    "                    }\n",
    "                }]\n"
   ]
  },
  {
   "cell_type": "code",
   "execution_count": 35,
   "metadata": {
    "id": "f2b9be1f-8599-48ec-bacf-eb8fe185d740"
   },
   "outputs": [
    {
     "name": "stdout",
     "output_type": "stream",
     "text": [
      "Software Specification ID: b56101f1-309d-549b-a849-eaa63f77b2fb\n"
     ]
    },
    {
     "data": {
      "text/plain": [
       "{'name': 'Mortgage Approval Prediction Model with custom facts',\n",
       " 'type': 'scikit-learn_1.1',\n",
       " 'software_spec': 'b56101f1-309d-549b-a849-eaa63f77b2fb',\n",
       " 'label_column': 'MORTGAGE_APPROVAL',\n",
       " 'inputDataSchema': [{'id': '1',\n",
       "   'type': 'struct',\n",
       "   'fields': [{'name': 'INCOME', 'type': 'float64'},\n",
       "    {'name': 'YRS_AT_CURRENT_ADDRESS', 'type': 'int64'},\n",
       "    {'name': 'YRS_WITH_CURRENT_EMPLOYER', 'type': 'int64'},\n",
       "    {'name': 'NUMBER_OF_CARDS', 'type': 'int64'},\n",
       "    {'name': 'CREDITCARD_DEBT', 'type': 'float64'},\n",
       "    {'name': 'LOAN_AMOUNT', 'type': 'float64'},\n",
       "    {'name': 'CREDIT_SCORE', 'type': 'int64'},\n",
       "    {'name': 'PROPERTY_VALUE', 'type': 'float64'},\n",
       "    {'name': 'AREA_AVG_PRICE', 'type': 'float64'},\n",
       "    {'name': 'LOANS', 'type': 'int64'},\n",
       "    {'name': 'GENDER', 'type': 'object'},\n",
       "    {'name': 'EDUCATION', 'type': 'object'},\n",
       "    {'name': 'EMPLOYMENT_STATUS', 'type': 'object'},\n",
       "    {'name': 'MARITAL_STATUS', 'type': 'object'},\n",
       "    {'name': 'APPLIEDONLINE', 'type': 'object'},\n",
       "    {'name': 'RESIDENCE', 'type': 'object'},\n",
       "    {'name': 'COMMERCIAL_CLIENT', 'type': 'object'},\n",
       "    {'name': 'COMM_FRAUD_INV', 'type': 'object'}]}],\n",
       " 'tags': ['mortgage_prediction_pipeline_tag'],\n",
       " 'training_data_references': [{'id': 'Mortgage_data',\n",
       "   'type': 'connection_asset',\n",
       "   'connection': {'id': 'dbca790e-c363-4413-a1c0-e636a25d305d'},\n",
       "   'location': {'select_statement': 'select * from AI_MORTGAGE.MORTGAGE_APPROVAL_VIEW',\n",
       "    'table_name': 'Mortgage_Approval_view'}}],\n",
       " 'custom': {'experiment_id': '8ce56b0212f54ff2b5d39205a0cba269',\n",
       "  'experiment_name': 'mortgage_approval_prediction'}}"
      ]
     },
     "execution_count": 35,
     "metadata": {},
     "output_type": "execute_result"
    }
   ],
   "source": [
    "software_spec_uid = client.software_specifications.get_id_by_name(\"runtime-22.2-py3.10\")\n",
    "print(\"Software Specification ID: {}\".format(software_spec_uid))\n",
    "\n",
    "model_props = {\n",
    "        client._models.ConfigurationMetaNames.NAME:model_name,\n",
    "        client._models.ConfigurationMetaNames.TYPE: \"scikit-learn_1.1\",\n",
    "        client._models.ConfigurationMetaNames.SOFTWARE_SPEC_UID: software_spec_uid,\n",
    "        client._models.ConfigurationMetaNames.LABEL_FIELD:\"MORTGAGE_APPROVAL\",\n",
    "        client._models.ConfigurationMetaNames.INPUT_DATA_SCHEMA:[{'id': '1', 'type': 'struct', 'fields': [{\"name\":column_name,\"type\":str(column_type[0])} for column_name,column_type in pd.DataFrame(X_train.dtypes).T.to_dict('list').items()]}],\n",
    "        client._models.ConfigurationMetaNames.TAGS: ['mortgage_prediction_pipeline_tag'],\n",
    "        client.repository.ModelMetaNames.TRAINING_DATA_REFERENCES: training_data_references,\n",
    "        client._models.ConfigurationMetaNames.CUSTOM: metadata_dict\n",
    "    }\n",
    "\n",
    "facts_client.export_facts.prepare_model_meta(wml_client=client,meta_props=model_props)\n"
   ]
  },
  {
   "cell_type": "markdown",
   "metadata": {
    "id": "ade1ec3c-c936-495d-896d-807ef6cb8338"
   },
   "source": [
    "The cell below exports all the facts captured by the AI Factsheets client, in addition some Notebook metadata "
   ]
  },
  {
   "cell_type": "code",
   "execution_count": 36,
   "metadata": {
    "id": "e40f5c50-8d4c-428c-a059-2cbb375354c3"
   },
   "outputs": [
    {
     "name": "stdout",
     "output_type": "stream",
     "text": [
      "2023/10/16 11:58:49 INFO : Initiating logging to factsheet for run_id......a807395f99924365ac33885fd5d5b6ac\n",
      "2023/10/16 11:58:50 INFO : Successfully logged results to Factsheet service for run_id a807395f99924365ac33885fd5d5b6ac under asset_id: c3323596-22d2-42e2-ace7-0373d1a8ea7d and project_id : c36314de-78f3-42e9-9617-31669038b966\n"
     ]
    }
   ],
   "source": [
    "#Defining Notebook URL\n",
    "nb_name = \"1-model-training-with-factsheets\"\n",
    "for i in project.get_assets():\n",
    "    if nb_name in i['name']:\n",
    "        nb_asset_id=i['asset_id']\n",
    "nb_asset_url =  CPD_URL + \"/analytics/notebooks/v2/\" + nb_asset_id + \"?projectid=\" + PROJECT_UID + \"&context=icp4data\"\n",
    "\n",
    "latestRunId = facts_client.runs.list_runs_by_experiment(facts_client.experiments.get_current_experiment_id()).sort_values('start_time').iloc[-1]['run_id']\n",
    "facts_client.runs.set_tags(latestRunId, {\"Notebook name\": nb_name, \"Notebook id\": nb_asset_id, \"Notebook URL\" : nb_asset_url})\n",
    "facts_client.export_facts.export_payload(latestRunId)"
   ]
  },
  {
   "cell_type": "code",
   "execution_count": 37,
   "metadata": {
    "id": "9e7c6545-4326-4af3-96a8-ddfca99790db"
   },
   "outputs": [
    {
     "name": "stdout",
     "output_type": "stream",
     "text": [
      "2023/10/16 11:58:50 INFO : Initiating logging to factsheet for run_id......a807395f99924365ac33885fd5d5b6ac\n",
      "2023/10/16 11:58:51 INFO : Successfully logged results to Factsheet service for run_id a807395f99924365ac33885fd5d5b6ac under asset_id: c3323596-22d2-42e2-ace7-0373d1a8ea7d and project_id : c36314de-78f3-42e9-9617-31669038b966\n"
     ]
    }
   ],
   "source": [
    "RUN_ID=facts_client.runs.get_current_run_id()\n",
    "facts_client.export_facts.export_payload(facts_client.runs.get_current_run_id())"
   ]
  },
  {
   "cell_type": "code",
   "execution_count": 38,
   "metadata": {
    "id": "fe4e8384-4916-4522-9294-cd6cc7d7680f"
   },
   "outputs": [
    {
     "name": "stdout",
     "output_type": "stream",
     "text": [
      "Storing model .....\n",
      "The model Mortgage Approval Prediction Model with custom facts successfully stored in the project\n",
      "Model ID: 6485075c-0ca5-412c-b7a1-4cbeb3c968c3\n"
     ]
    }
   ],
   "source": [
    "print(\"Storing model .....\")\n",
    "\n",
    "published_model_details = client.repository.store_model(model=model_pipeline, meta_props=model_props, \n",
    "                                                        training_data=df_prep.drop([\"MORTGAGE_APPROVAL\"], axis=1), training_target=df_prep.MORTGAGE_APPROVAL)\n",
    "model_uid = client.repository.get_model_id(published_model_details)\n",
    "print(\"The model\",model_name,\"successfully stored in the project\")\n",
    "print(\"Model ID: {}\".format(model_uid))\n",
    "\n"
   ]
  },
  {
   "cell_type": "code",
   "execution_count": 84,
   "metadata": {
    "id": "dbb93344dde549f7808ff6a6c8eba0cc"
   },
   "outputs": [
    {
     "name": "stdout",
     "output_type": "stream",
     "text": [
      "2023/09/07 14:46:40 INFO : Current model information: {'asset_id': '6a6d8674-362f-45b4-82de-e985901454f8', 'container_type': 'project', 'container_id': 'c36314de-78f3-42e9-9617-31669038b966', 'facts_type': 'modelfacts_user'}\n",
      "2023/09/07 14:46:40 INFO : Creating definitions for type modelfacts_user\n",
      "2023/09/07 14:46:40 INFO : Custom facts definitions updated Successfully\n",
      "2023/09/07 14:46:42 INFO : Custom facts ['SPI Features', 'PI Features'] successfully set to values [['COMMERCIAL_CLIENT'], ['MARITAL_STATUS', 'GENDER', 'CREDIT_SCORE']]\n"
     ]
    }
   ],
   "source": [
    "\n",
    "wslib.download_file(\"Asset_type_definition.csv\")\n",
    "df_custom=pd.read_csv(\"Asset_type_definition.csv\")\n",
    "\n",
    "get_model = facts_client.assets.get_model(model_id = model_uid)\n",
    "\n",
    "facts_client.assets.create_custom_facts_definitions(\"Asset_type_definition.csv\",overwrite=True)\n",
    "custom_facts_dict={'PI Features':['COMMERCIAL_CLIENT'], 'SPI Features':['MARITAL_STATUS','GENDER','CREDIT_SCORE']}\n",
    "get_model.set_custom_facts(custom_facts_dict)"
   ]
  },
  {
   "cell_type": "code",
   "execution_count": 91,
   "metadata": {
    "id": "1c80851e49b747a5835536b621b850a7"
   },
   "outputs": [
    {
     "name": "stdout",
     "output_type": "stream",
     "text": [
      "2023/09/07 15:21:17 INFO : Custom Openpages facts ['SPI-Features'] successfully set to values ['1. MARITAL_STATUS\\n2. GENDER\\n3. CREDIT_SCORE']\n"
     ]
    }
   ],
   "source": [
    "\n",
    "\n",
    "custom_facts_dict={'SPI-Features':'1. MARITAL_STATUS\\n2. GENDER\\n3. CREDIT_SCORE'}\n",
    "get_model.set_custom_facts(custom_facts_dict)"
   ]
  },
  {
   "cell_type": "code",
   "execution_count": 72,
   "metadata": {
    "id": "cf690e675f4444909beb1c849d5971fb"
   },
   "outputs": [
    {
     "name": "stdout",
     "output_type": "stream",
     "text": [
      "2023/09/07 14:37:13 INFO : Current model information: {'asset_id': 'd80cc843-e8b6-4c88-84c8-779bc96546fa', 'container_type': 'project', 'container_id': 'c36314de-78f3-42e9-9617-31669038b966', 'facts_type': 'modelfacts_user'}\n",
      "2023/09/07 14:37:13 INFO : Creating definitions for type modelfacts_user\n",
      "2023/09/07 14:37:13 INFO : Custom facts definitions updated Successfully\n",
      "2023/09/07 14:37:24 INFO : Custom facts ['CREDITCARD_DEBT', 'PROPERTY_VALUE', 'YRS_WITH_CURRENT_EMPLOYER', 'EDUCATION', 'AREA_AVG_PRICE', 'RESIDENCE', 'APPLIEDONLINE', 'LOAN_AMOUNT', 'COMMERCIAL_CLIENT', 'MARITAL_STATUS', 'NUMBER_OF_CARDS', 'YRS_AT_CURRENT_ADDRESS', 'LOANS', 'GENDER', 'COMM_FRAUD_INV', 'CREDIT_SCORE', 'INCOME', 'MORTGAGE_APPROVAL'] successfully set to values [['Data Class: Boolean', 'Business Term: Mortgage'], ['Data Class: Legal Marital/Civil Status.', 'Business Term: Individual Marital Status', 'Classification Type: Sensitive Personal Information'], ['Data Class: NoClassDetected', 'Business Term: Total Loan Outstanding Amount'], ['Data Class: Last Name', 'Business Term: Education Level'], ['Data Class: NoClassDetected', 'Business Term: Property Value'], ['Data Class: Indicator', 'Business Term: Number Of Payment Cards'], ['Data Class: NoClassDetected', 'Business Term: Total Loan Value'], ['Data Class: Organization Name', 'Business Term: Property Ownership Type'], ['Data Class: Code', 'Business Term: Length Of Residence'], ['Data Class: NoClassDetected', 'Business Term: Income'], ['Data Class: Boolean', 'Business Term: Fraud Assessment'], ['Data Class: Boolean'], ['Data Class: Gender', 'Business Term: Individual Gender', 'Classification Type: Sensitive Personal Information'], ['Data Class: Boolean', 'Business Term: Customer Category Type', 'Classification Type: Personal Information'], ['Data Class: Code', 'Business Term: Credit Score', 'Classification Type: Sensitive Personal Information'], ['Data Class: Code'], ['Data Class: Code', 'Business Term: Length Of Time At Current Employment'], ['Data Class: Boolean', 'Business Term: Total Consumer Loans & Leases']]\n"
     ]
    }
   ],
   "source": [
    "wslib.download_file(\"CUSTOM_ASSET_TYPES.csv\")\n",
    "df_custom=pd.read_csv(\"CUSTOM_ASSET_TYPES.csv\")\n",
    "\n",
    "get_model = facts_client.assets.get_model(model_id = model_uid)\n",
    "\n",
    "facts_client.assets.create_custom_facts_definitions(\"CUSTOM_ASSET_TYPES.csv\",overwrite=True)\n",
    "\n",
    "custom_facts_dict={\n",
    " 'MORTGAGE_APPROVAL': ['Data Class: Boolean', 'Business Term: Mortgage'],\n",
    " 'MARITAL_STATUS': ['Data Class: Legal Marital/Civil Status.',\n",
    "  'Business Term: Individual Marital Status',\n",
    "  'Classification Type: Sensitive Personal Information'],\n",
    " 'CREDITCARD_DEBT': ['Data Class: NoClassDetected',\n",
    "  'Business Term: Total Loan Outstanding Amount'],\n",
    " 'EDUCATION': ['Data Class: Last Name', 'Business Term: Education Level'],\n",
    " 'PROPERTY_VALUE': ['Data Class: NoClassDetected',\n",
    "  'Business Term: Property Value'],\n",
    " 'NUMBER_OF_CARDS': ['Data Class: Indicator',\n",
    "  'Business Term: Number Of Payment Cards'],\n",
    " 'LOAN_AMOUNT': ['Data Class: NoClassDetected',\n",
    "  'Business Term: Total Loan Value'],\n",
    " 'RESIDENCE': ['Data Class: Organization Name',\n",
    "  'Business Term: Property Ownership Type'],\n",
    " 'YRS_AT_CURRENT_ADDRESS': ['Data Class: Code',\n",
    "  'Business Term: Length Of Residence'],\n",
    " 'INCOME': ['Data Class: NoClassDetected', 'Business Term: Income'],\n",
    " 'COMM_FRAUD_INV': ['Data Class: Boolean', 'Business Term: Fraud Assessment'],\n",
    " 'APPLIEDONLINE': ['Data Class: Boolean'],\n",
    " 'GENDER': ['Data Class: Gender',\n",
    "  'Business Term: Individual Gender',\n",
    "  'Classification Type: Sensitive Personal Information'],\n",
    " 'COMMERCIAL_CLIENT': ['Data Class: Boolean',\n",
    "  'Business Term: Customer Category Type',\n",
    "  'Classification Type: Personal Information'],\n",
    " 'CREDIT_SCORE': ['Data Class: Code',\n",
    "  'Business Term: Credit Score',\n",
    "  'Classification Type: Sensitive Personal Information'],\n",
    " 'AREA_AVG_PRICE': ['Data Class: Code'],\n",
    " 'YRS_WITH_CURRENT_EMPLOYER': ['Data Class: Code',\n",
    "  'Business Term: Length Of Time At Current Employment'],\n",
    " 'LOANS': ['Data Class: Boolean',\n",
    "  'Business Term: Total Consumer Loans & Leases']}\n",
    "\n",
    "get_model.set_custom_facts(custom_facts_dict)"
   ]
  },
  {
   "cell_type": "markdown",
   "metadata": {
    "id": "a4f14f09-2ea7-4b63-a39f-9657d9eb7f05"
   },
   "source": [
    "The model is successfully saved in the project. Navigate to the project assets, click on the model to view the model factsheet."
   ]
  },
  {
   "cell_type": "markdown",
   "metadata": {
    "id": "d5ca06ff822b4ebabaf29afe5932c4cc"
   },
   "source": [
    "## Add custom facts to the model "
   ]
  },
  {
   "cell_type": "markdown",
   "metadata": {
    "id": "f3fe5f12ade5432180467fe90e4cbbc9"
   },
   "source": [
    "### Retrieve the facts from the catalog asset"
   ]
  },
  {
   "cell_type": "markdown",
   "metadata": {
    "id": "4daf14d905294cd498fec8e01b43679a"
   },
   "source": [
    "Below cells retrieve the pi and spi features in the dataset. The data asset is located in the catalog. Specify the catalog name and data asset name below."
   ]
  },
  {
   "cell_type": "markdown",
   "metadata": {
    "id": "c1db273cd53e4963a2cf84833bf56399"
   },
   "source": [
    "### Retrieve data asset id from the catalog"
   ]
  },
  {
   "cell_type": "code",
   "execution_count": 39,
   "metadata": {
    "id": "d3c7d867642b43c49bc4aadb46bcf435"
   },
   "outputs": [],
   "source": [
    "\n",
    "data_asset_name=\"MORTGAGE_APPROVAL_VIEW\""
   ]
  },
  {
   "cell_type": "markdown",
   "metadata": {
    "id": "7ed99e57b50a40f8a1a9de5fa66af728"
   },
   "source": [
    "Steps to retrieve PI and SPI information of individual columns \n",
    "1. Retrieve the above catalog.\n",
    "2. Retrieve the data asset mentioned above.\n",
    "3. Retrieve metadata from the asset.\n",
    "4. Read data class, business terms of the columns.\n",
    "5. Add PI, SPI information from business term to each column\n",
    "\n",
    "\n",
    "\n",
    "\n",
    "### 1. Retrieve the above catalog."
   ]
  },
  {
   "cell_type": "code",
   "execution_count": 42,
   "metadata": {
    "id": "01b555a23a024d55986542a75f79d80e"
   },
   "outputs": [
    {
     "name": "stdout",
     "output_type": "stream",
     "text": [
      "catalog_id for Mortgage Approval Catalog 933e5240-f770-44eb-afa3-a6d7b99195cb\n"
     ]
    }
   ],
   "source": [
    "catalog_endpoint=hostname+\"v2/catalogs\"\n",
    "# Create new header for the requests\n",
    "headers = {\n",
    "'Content-Type': \"application/json\",\n",
    "'Authorization': \"Bearer \"+os.environ['USER_ACCESS_TOKEN']\n",
    "\n",
    "}\n",
    "\n",
    "# endpoint to get all the catalogs \n",
    "get_catalog=s.get(catalog_endpoint,verify=False, headers=headers)\n",
    "\n",
    "\n",
    "## Find the catalog created with specific name and store name and id of it into catalog_name and catalog_id respectively\n",
    "try:\n",
    "    get_catalog_json=json.loads(get_catalog.text)['catalogs']\n",
    "except:\n",
    "    print(\"The below error has occurred. Please ensure that catalog, '\" + catalog_name + \"', exists\")\n",
    "    raise\n",
    "    \n",
    "catalog_id = ''\n",
    "for metadata in get_catalog_json:\n",
    "    if metadata['entity']['name']==catalog_name:\n",
    "        catalog_id=metadata['metadata']['guid']\n",
    "        print(\"catalog_id for\",catalog_name, catalog_id)\n",
    "\n",
    "if catalog_id == '':\n",
    "    print(\"The provided catalog name cannot be found. Please ensure that catalog, '\" + catalog_name + \"', exists\")\n",
    "    raise ValueError(\"Catalog cannot be found\")"
   ]
  },
  {
   "cell_type": "markdown",
   "metadata": {
    "id": "da5da60b8ad44aefb43815ffec12a59a"
   },
   "source": [
    "### 2. Retrieve the data asset mentioned above."
   ]
  },
  {
   "cell_type": "code",
   "execution_count": 44,
   "metadata": {
    "id": "70e841e8b15a4dbb88c621a3f96245cf"
   },
   "outputs": [
    {
     "name": "stdout",
     "output_type": "stream",
     "text": [
      "data asset id for MORTGAGE_APPROVAL_VIEW ed7e380b-a148-4ae9-9234-e4a13f757068\n"
     ]
    }
   ],
   "source": [
    "data_asset_id=''\n",
    "getCatalogAssetsURL = hostname+\"v2/asset_types/asset/search?catalog_id=\"+catalog_id\n",
    "headers = {\n",
    "    'Content-Type': \"application/json\",\n",
    "    'Authorization': \"Bearer \" + os.environ['USER_ACCESS_TOKEN'],\n",
    "    'Cache-Control': \"no-cache\",\n",
    "    'Connection': \"keep-alive\"\n",
    "    }\n",
    "payload = {\n",
    "                \"query\":\"*:*\",\n",
    "                \"limit\":200\n",
    "                }\n",
    "res=s.post(getCatalogAssetsURL,json=payload,headers=headers,verify=False)\n",
    "for i in json.loads(res.text)['results']:\n",
    "    if i['metadata']['name']==data_asset_name:\n",
    "        data_asset_id=i['metadata']['asset_id']\n",
    "        print(\"data asset id for\",data_asset_name, data_asset_id)\n",
    "\n",
    "if data_asset_id == '':\n",
    "    print(\"The provided data asset cannot be found in the catalog. Please ensure that data asset, '\" + data_asset_name + \"', exists\")\n",
    "    raise ValueError(\"data asset cannot be found\")"
   ]
  },
  {
   "cell_type": "markdown",
   "metadata": {
    "id": "351e34f223154c818752cd01f500bc89"
   },
   "source": [
    "### 3. Retrieve metadata from the asset."
   ]
  },
  {
   "cell_type": "code",
   "execution_count": 46,
   "metadata": {
    "id": "561b21b83fbd40ac8341a4da22d736aa"
   },
   "outputs": [
    {
     "name": "stdout",
     "output_type": "stream",
     "text": [
      "Metadata retrieved for MORTGAGE_APPROVAL_VIEW\n"
     ]
    }
   ],
   "source": [
    "\n",
    "\n",
    "data_asset_url = hostname+\"v2/data_assets/\"+data_asset_id\n",
    "headers = {\n",
    "'Content-Type': \"application/json\",\n",
    "'Authorization': \"Bearer \"+os.environ['USER_ACCESS_TOKEN']\n",
    "\n",
    "}\n",
    "\n",
    "params = {\n",
    "    'catalog_id': catalog_id,\n",
    "    'hide_deprecated_response_fields': 'false',\n",
    "}\n",
    "\n",
    "response = requests.get(data_asset_url, headers=headers, params=params,verify=False)\n",
    "\n",
    "if response.status_code == 200:\n",
    "    data = response.json()\n",
    "    print(\"Metadata retrieved for\",data_asset_name)\n",
    "else:\n",
    "    print(f\"Failed with status code: {response.status_code}\")\n",
    "    print(response.text)\n",
    "col_data=data['entity']['column_info']\n",
    "cols=[i for i in col_data]\n"
   ]
  },
  {
   "cell_type": "markdown",
   "metadata": {
    "id": "acaed3984f62402182eede4ffd6f2b55"
   },
   "source": [
    "### 4. Read data class, business terms of the columns."
   ]
  },
  {
   "cell_type": "code",
   "execution_count": 47,
   "metadata": {
    "id": "d6a0b5a76f2f4422853d81cbf57dde5d"
   },
   "outputs": [
    {
     "name": "stdout",
     "output_type": "stream",
     "text": [
      "['column_name', 'data_class', 'data_class_id', 'term_name', 'term_id']\n",
      "['EMPLOYMENT_STATUS', 'Code', 'df7d5e8f-34b7-4df0-aba4-124e67cefce4_efffd019-3908-42c7-bed8-282153da5e83', 'Individual Employment Status', 'df7d5e8f-34b7-4df0-aba4-124e67cefce4_a37b7400-2bbd-4686-be1b-0277c07f81c2']\n",
      "['MORTGAGE_APPROVAL', 'Boolean', 'df7d5e8f-34b7-4df0-aba4-124e67cefce4_e1929f5a-c27a-4768-a1fb-d0e7f5de87b6', 'Mortgage', 'df7d5e8f-34b7-4df0-aba4-124e67cefce4_f925687d-2bca-4112-a9f1-5dbf2207373f']\n",
      "['MARITAL_STATUS', 'Legal Marital/Civil Status.', 'df7d5e8f-34b7-4df0-aba4-124e67cefce4_dc752507-5fa1-43e3-adda-a620ea6c70bf', 'Individual Marital Status', 'df7d5e8f-34b7-4df0-aba4-124e67cefce4_c224c425-900a-4e1d-9be2-c66cac069d3c']\n",
      "['CREDITCARD_DEBT', 'NoClassDetected', 'U', 'Total Loan Outstanding Amount', 'df7d5e8f-34b7-4df0-aba4-124e67cefce4_c6efe494-0631-44eb-b95e-eed4825714e0']\n",
      "['EDUCATION', 'Text', 'df7d5e8f-34b7-4df0-aba4-124e67cefce4_f3097b75-452d-429f-bc1f-6871dc7cbd41', 'Education Level', 'df7d5e8f-34b7-4df0-aba4-124e67cefce4_69add696-cf6b-4fdc-abbd-d840c4ac7a1d']\n",
      "['PROPERTY_VALUE', 'Identifier', 'df7d5e8f-34b7-4df0-aba4-124e67cefce4_9b29a1a1-a902-449f-976a-1f6caf1a5efb', 'Property Value', 'df7d5e8f-34b7-4df0-aba4-124e67cefce4_8731b3d2-0bcf-4b46-a9fc-5a6afa364bb2']\n",
      "['NUMBER_OF_CARDS', 'Indicator', 'df7d5e8f-34b7-4df0-aba4-124e67cefce4_491da740-84e7-4607-a690-2675dc3367c0', 'Number Of Payment Cards', 'df7d5e8f-34b7-4df0-aba4-124e67cefce4_d39850dd-702c-47c6-852f-3589066e7106']\n",
      "['LOAN_AMOUNT', 'NoClassDetected', 'U', 'Total Loan Value', 'df7d5e8f-34b7-4df0-aba4-124e67cefce4_6acbf1e2-9671-4eaf-8f8f-86172460ae18']\n",
      "['RESIDENCE', 'NoClassDetected', 'U', 'Residence Property', 'df7d5e8f-34b7-4df0-aba4-124e67cefce4_41ec2b74-a149-4718-ae70-8157bdc357e9']\n",
      "['YRS_AT_CURRENT_ADDRESS', 'Code', 'df7d5e8f-34b7-4df0-aba4-124e67cefce4_efffd019-3908-42c7-bed8-282153da5e83', 'Length Of Residence', 'df7d5e8f-34b7-4df0-aba4-124e67cefce4_8e7ebb42-b132-4682-ac0c-9351ed79fad4']\n",
      "['INCOME', 'NoClassDetected', 'U', 'Individual Monthly Disposable Income', 'df7d5e8f-34b7-4df0-aba4-124e67cefce4_97abe6b7-9272-45f3-829b-c56f1eace251']\n",
      "['COMM_FRAUD_INV', 'Boolean', 'df7d5e8f-34b7-4df0-aba4-124e67cefce4_e1929f5a-c27a-4768-a1fb-d0e7f5de87b6', 'Fraud Assessment', 'df7d5e8f-34b7-4df0-aba4-124e67cefce4_78a13a8d-3c91-4374-9b42-ce13090b4b4f']\n",
      "['APPLIEDONLINE', 'Boolean', 'df7d5e8f-34b7-4df0-aba4-124e67cefce4_e1929f5a-c27a-4768-a1fb-d0e7f5de87b6', '', '']\n",
      "['GENDER', 'Gender', 'df7d5e8f-34b7-4df0-aba4-124e67cefce4_cd37ef27-c58e-4b15-bb00-ec0259f94fe2', 'Individual Gender', 'df7d5e8f-34b7-4df0-aba4-124e67cefce4_31a31b98-514e-474a-9120-b9a8548c48ed']\n",
      "['COMMERCIAL_CLIENT', 'Boolean', 'df7d5e8f-34b7-4df0-aba4-124e67cefce4_e1929f5a-c27a-4768-a1fb-d0e7f5de87b6', 'Customer Category Type', 'df7d5e8f-34b7-4df0-aba4-124e67cefce4_f80940cc-f9ff-426c-b4d9-d4081d7de088']\n",
      "['CREDIT_SCORE', 'Code', 'df7d5e8f-34b7-4df0-aba4-124e67cefce4_efffd019-3908-42c7-bed8-282153da5e83', 'Credit Score', 'df7d5e8f-34b7-4df0-aba4-124e67cefce4_eb4b048d-e6a7-42c5-8482-7cf23bc167e8']\n",
      "['AREA_AVG_PRICE', 'Code', 'df7d5e8f-34b7-4df0-aba4-124e67cefce4_efffd019-3908-42c7-bed8-282153da5e83', '', '']\n",
      "['YRS_WITH_CURRENT_EMPLOYER', 'Code', 'df7d5e8f-34b7-4df0-aba4-124e67cefce4_efffd019-3908-42c7-bed8-282153da5e83', 'Length Of Time At Current Employment Time Period', 'df7d5e8f-34b7-4df0-aba4-124e67cefce4_a6f5fa5b-56a1-4e74-832f-e17cd0c72825']\n",
      "['LOANS', 'Boolean', 'df7d5e8f-34b7-4df0-aba4-124e67cefce4_e1929f5a-c27a-4768-a1fb-d0e7f5de87b6', 'Total Consumer Loans & Leases', 'df7d5e8f-34b7-4df0-aba4-124e67cefce4_c273f63f-32bf-40b2-8076-cf563a049283']\n"
     ]
    }
   ],
   "source": [
    "\n",
    "df_metadata = pd.DataFrame(columns=['Column Name', 'Data Class Name', 'Data Class ID', 'Business Term', 'Business Term ID'])\n",
    "print([\"column_name\", \"data_class\", \"data_class_id\", \"term_name\", \"term_id\"])\n",
    "\n",
    "for column_name, value in col_data.items():\n",
    "    if column_name in fields+[target_col]:\n",
    "\n",
    "        data_class_info = value['data_class'].get('selected_data_class', {})\n",
    "        data_class = data_class_info.get('name', '')\n",
    "        data_class_id = data_class_info.get('id', '')\n",
    "\n",
    "        term_info = value['column_terms']\n",
    "        term_id = term_info[0]['term_id'] if term_info else ''\n",
    "        term_name = term_info[0]['term_display_name'] if term_info else ''\n",
    "\n",
    "        print([column_name, data_class, data_class_id, term_name, term_id])\n",
    "        df_metadata.loc[len(df_metadata)] = [column_name, data_class, data_class_id, term_name, term_id]"
   ]
  },
  {
   "cell_type": "markdown",
   "metadata": {
    "id": "1a1222b1d1204c1e8c1425b7ce738604"
   },
   "source": [
    "### 5. Add PI, SPI information from business term to each column"
   ]
  },
  {
   "cell_type": "code",
   "execution_count": 49,
   "metadata": {
    "id": "2c4307eba0514d7f887118d92d97d33b"
   },
   "outputs": [],
   "source": [
    "\n",
    "headers = {\n",
    "'Content-Type': \"application/json\",\n",
    "'Authorization': \"Bearer \"+os.environ['USER_ACCESS_TOKEN']\n",
    "\n",
    "}\n",
    "li_pi_spi=[]\n",
    "for term in df_metadata['Business Term ID'].values.tolist():\n",
    "    if term!='':\n",
    "        artifact_id=term#.split('_')[1]\n",
    "        term_url = hostname+\"v3/glossary_terms/\"+artifact_id+\"/versions?include_custom_attributes=true&include_relationship=all\"\n",
    "        response = requests.get(term_url, headers=headers, verify=False)\n",
    "        \n",
    "        if response.status_code == 200:\n",
    "            data1 = response.json()\n",
    "            if \"classifications\" in data1['resources'][0][\"entity\"]:\n",
    "                pi_spi=data1['resources'][0][\"entity\"]['classifications']['resources'][0]['entity']['target_name']\n",
    "            else:\n",
    "                pi_spi='Unknown'\n",
    "                \n",
    "    \n",
    "        else:\n",
    "            print(f\"Failed with status code: {response.status_code}\")\n",
    "            print(response.text)\n",
    "\n",
    "    else:\n",
    "        pi_spi='Unknown'\n",
    "    li_pi_spi.append(pi_spi)\n",
    "df_metadata['Classification_Type'] = li_pi_spi"
   ]
  },
  {
   "cell_type": "code",
   "execution_count": 75,
   "metadata": {
    "id": "06fed712c3924ee092f78da33134dbcb"
   },
   "outputs": [],
   "source": [
    "pi_list=df_metadata[df_metadata['Classification_Type']=='Personal Information']['Column Name'].tolist()\n",
    "spi_list=df_metadata[df_metadata['Classification_Type']=='Sensitive Personal Information']['Column Name'].tolist()\n",
    "\n",
    "\n",
    "\n",
    "\n",
    "pi_string='\\n'.join(pi_list)\n",
    "spi_string='\\n'.join(spi_list)"
   ]
  },
  {
   "cell_type": "code",
   "execution_count": 78,
   "metadata": {
    "id": "4bee6a5404644b118eaaef1c9009aa3c"
   },
   "outputs": [
    {
     "name": "stdout",
     "output_type": "stream",
     "text": [
      "2023/10/16 12:21:55 INFO : Custom Openpages facts ['SPI-Features', 'PI-Features'] successfully set to values ['MARITAL_STATUS\\nINCOME\\nGENDER\\nCREDIT_SCORE', 'EMPLOYMENT_STATUS\\nMORTGAGE_APPROVAL\\nRESIDENCE\\nCOMMERCIAL_CLIENT\\nYRS_WITH_CURRENT_EMPLOYER']\n"
     ]
    }
   ],
   "source": [
    "custom_facts_dict={'SPI-Features':spi_string,'PI-Features':pi_string}\n",
    "get_model.set_custom_facts(custom_facts_dict)"
   ]
  },
  {
   "cell_type": "markdown",
   "metadata": {
    "id": "376f055612284faa83a3169b8f019fa3"
   },
   "source": [
    "### Create custom asset csv from the above data"
   ]
  },
  {
   "cell_type": "code",
   "execution_count": 53,
   "metadata": {
    "id": "99752a968f7741eca47b89c18c43ecd4"
   },
   "outputs": [],
   "source": [
    "df_custom=pd.DataFrame()\n",
    "df_custom['name']=df_metadata['Column Name'].values.tolist()\n",
    "df_custom['description']=df_metadata['Business Term'].values.tolist()\n",
    "df_custom['placeholder']=df_metadata['Business Term'].values.tolist()\n",
    "df_custom['is_array']=True\n",
    "df_custom['required']=True\n",
    "\n",
    "df_custom['hidden']=False\n",
    "df_custom['readonly']=False\n",
    "df_custom['default_value']=0\n",
    "df_custom['label']=df_metadata['Column Name'].values.tolist()\n",
    "df_custom['is_searchable']=True\n",
    "df_custom['type']=\"string\"\n",
    "df_custom['minimum']=None\n",
    "df_custom['maximum']=None\n",
    "df_custom['min_length']=None\n",
    "df_custom['max_length']=None\n",
    "df_custom.to_csv(\"CUSTOM_ASSET_TYPES.csv\",index=False)"
   ]
  },
  {
   "cell_type": "markdown",
   "metadata": {
    "id": "410ac2e82f0e49678fd9fefbfb3885c4"
   },
   "source": [
    "## Add above custom facts to the model\n",
    "Steps: <br>\n",
    "1. Read the model <br>\n",
    "2. Create custom fact fields from the CSV <br>\n",
    "3. Add column level custom facts to the model<br>"
   ]
  },
  {
   "cell_type": "code",
   "execution_count": 66,
   "metadata": {
    "id": "5174104fbdbd4e4b97130da533fe8053"
   },
   "outputs": [
    {
     "name": "stdout",
     "output_type": "stream",
     "text": [
      "2023/10/16 12:15:48 INFO : Current model information: {'asset_id': '6485075c-0ca5-412c-b7a1-4cbeb3c968c3', 'container_type': 'project', 'container_id': 'c36314de-78f3-42e9-9617-31669038b966', 'facts_type': 'modelfacts_user'}\n"
     ]
    }
   ],
   "source": [
    "get_model = facts_client.assets.get_model(model_id = model_uid)\n"
   ]
  },
  {
   "cell_type": "code",
   "execution_count": 57,
   "metadata": {
    "id": "02e28a4c358c4bec82fa1ef4970d639f"
   },
   "outputs": [],
   "source": [
    "# Create a dictionary to store the custom facts for each column\n",
    "custom_facts_dict = {}\n",
    "\n",
    "# Loop through the unique column names in df_custom\n",
    "for col in df_custom['name'].unique():\n",
    "    # Get the corresponding metadata for the current column\n",
    "    metadata_row = df_metadata[df_metadata['Column Name'] == col].iloc[0]\n",
    "\n",
    "    # Build the custom fact values based on the metadata information\n",
    "    fact_values = [\n",
    "        \"Data Class: \" + metadata_row['Data Class Name'],\n",
    "    ]\n",
    "\n",
    "    if metadata_row['Business Term']:\n",
    "        fact_values.append(\"Business Term: \" + metadata_row['Business Term'])\n",
    "\n",
    "    if metadata_row['Classification_Type'] != \"Unknown\":\n",
    "        fact_values.append(\"Classification Type: \" + metadata_row['Classification_Type'])\n",
    "\n",
    "    # Add the custom fact values to the dictionary\n",
    "    custom_facts_dict[col] = fact_values\n",
    "\n",
    "# Set the custom facts using the dictionary in a single call\n",
    "get_model.set_custom_facts(custom_facts_dict)"
   ]
  },
  {
   "cell_type": "markdown",
   "metadata": {},
   "source": [
    "**Sample Materials, provided under license. <br>\n",
    "Licensed Materials - Property of IBM. <br>\n",
    "© Copyright IBM Corp. 2024. All Rights Reserved. <br>\n",
    "US Government Users Restricted Rights - Use, duplication or disclosure restricted by GSA ADP Schedule Contract with IBM Corp. <br>**"
   ]
  }
 ],
 "metadata": {
  "kernelspec": {
   "display_name": "Python 3 (ipykernel)",
   "language": "python",
   "name": "python3"
  },
  "language_info": {
   "codemirror_mode": {
    "name": "ipython",
    "version": 3
   },
   "file_extension": ".py",
   "mimetype": "text/x-python",
   "name": "python",
   "nbconvert_exporter": "python",
   "pygments_lexer": "ipython3",
   "version": "3.9.6"
  }
 },
 "nbformat": 4,
 "nbformat_minor": 4
}
